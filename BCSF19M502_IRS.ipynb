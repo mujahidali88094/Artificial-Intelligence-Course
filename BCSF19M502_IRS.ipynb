{
 "cells": [
  {
   "cell_type": "markdown",
   "metadata": {},
   "source": [
    "# Assignment 1 IRS"
   ]
  },
  {
   "cell_type": "markdown",
   "metadata": {},
   "source": [
    "Information retrieval is the process of obtaining information system resources that are relevant to an information need from a collection of those resources. The core purpose of this assignment is to give you the flavor of IRS. You need to follow some steps listed below and in the end, you'll be able to build your own small IRS. So, let's start."
   ]
  },
  {
   "cell_type": "code",
   "execution_count": 11,
   "metadata": {},
   "outputs": [],
   "source": [
    "# required imports\n",
    "import numpy as np\n",
    "import fnmatch\n",
    "import os\n"
   ]
  },
  {
   "cell_type": "markdown",
   "metadata": {},
   "source": [
    "Suppose we have 3 files containing data :"
   ]
  },
  {
   "cell_type": "markdown",
   "metadata": {},
   "source": [
    "### File Contents"
   ]
  },
  {
   "cell_type": "markdown",
   "metadata": {},
   "source": [
    "<img src=\"1.png\"/>\n",
    "<img src=\"2.png\"/>\n",
    "<img src=\"3.png\"/>"
   ]
  },
  {
   "cell_type": "markdown",
   "metadata": {},
   "source": [
    "# Step 1 Create Files with Dummy data"
   ]
  },
  {
   "cell_type": "markdown",
   "metadata": {},
   "source": [
    "You have to create few files with dummy data of your own choice as shown above."
   ]
  },
  {
   "cell_type": "markdown",
   "metadata": {},
   "source": [
    "# Step 2 Traverse Directories"
   ]
  },
  {
   "cell_type": "markdown",
   "metadata": {},
   "source": [
    " Now, You have to traverse the directories and store all the files into a dict type variable(files_dict). "
   ]
  },
  {
   "cell_type": "code",
   "execution_count": 12,
   "metadata": {},
   "outputs": [],
   "source": [
    "# Here we have intialized some variables, you can add more if required.\n",
    "\n",
    "file_count = 0             # file_count to count number of files\n",
    "files_dict = {}            # files_dic to store count of every file    \n",
    "unique_word_set = set()    # unique_word_set to store all the unique words in a set\n",
    "\n",
    "path = 'Temp/'"
   ]
  },
  {
   "cell_type": "code",
   "execution_count": 13,
   "metadata": {},
   "outputs": [
    {
     "name": "stdout",
     "output_type": "stream",
     "text": [
      "{1: 'Temp/temp1.txt', 2: 'Temp/temp2.txt', 3: 'Temp/temp3.txt'}\n"
     ]
    }
   ],
   "source": [
    "#Your code starts here\n",
    "entries = os.listdir(path)\n",
    "\n",
    "for entry in entries:\n",
    "    if entry.endswith('.txt'):\n",
    "        file_count+=1\n",
    "        files_dict.update({file_count:path+entry})\n",
    "print(files_dict)\n",
    "\n",
    "#Your code ends here       "
   ]
  },
  {
   "cell_type": "markdown",
   "metadata": {},
   "source": [
    "Displaying the count of files."
   ]
  },
  {
   "cell_type": "code",
   "execution_count": 15,
   "metadata": {},
   "outputs": [
    {
     "name": "stdout",
     "output_type": "stream",
     "text": [
      "\n",
      "Total Number  of files\n",
      " 3\n"
     ]
    }
   ],
   "source": [
    "print(\"\\nTotal Number  of files\\n\", file_count)"
   ]
  },
  {
   "cell_type": "markdown",
   "metadata": {},
   "source": [
    "Displaying Dictionary containing all files."
   ]
  },
  {
   "cell_type": "code",
   "execution_count": 16,
   "metadata": {},
   "outputs": [
    {
     "name": "stdout",
     "output_type": "stream",
     "text": [
      "\n",
      "Dictionary containing  files\n",
      " {1: 'Temp/temp1.txt', 2: 'Temp/temp2.txt', 3: 'Temp/temp3.txt'}\n"
     ]
    }
   ],
   "source": [
    "print(\"\\nDictionary containing  files\\n\", files_dict)"
   ]
  },
  {
   "cell_type": "markdown",
   "metadata": {},
   "source": [
    "# Step 3 Extract Unique Vocabulary"
   ]
  },
  {
   "cell_type": "code",
   "execution_count": 17,
   "metadata": {},
   "outputs": [
    {
     "name": "stdout",
     "output_type": "stream",
     "text": [
      "{'first', 'file.', 'another', 'This', 'temp3', 'unique', 'is'}\n"
     ]
    }
   ],
   "source": [
    "# write code to print all the unique words in every file and store them in a set\n",
    "# opening the text file\n",
    "for file_name in files_dict.values():\n",
    "    with open(file_name,'r') as file:\n",
    "        # reading each line    \n",
    "        for line in file:\n",
    "            # reading each word        \n",
    "            for word in line.split():\n",
    "                # displaying the words           \n",
    "                unique_word_set.add(word)\n",
    "\n",
    "print(unique_word_set)"
   ]
  },
  {
   "cell_type": "code",
   "execution_count": 18,
   "metadata": {},
   "outputs": [
    {
     "name": "stdout",
     "output_type": "stream",
     "text": [
      "{'first', 'file.', 'another', 'This', 'temp3', 'unique', 'is'}\n",
      "3\n"
     ]
    }
   ],
   "source": [
    "#Your code starts here    \n",
    "print(unique_word_set)\n",
    "print(file_count)\n",
    "#Your code ends here"
   ]
  },
  {
   "cell_type": "markdown",
   "metadata": {},
   "source": [
    "### Expected Output"
   ]
  },
  {
   "cell_type": "markdown",
   "metadata": {},
   "source": [
    "<img src=\"4.png\"/>"
   ]
  },
  {
   "cell_type": "markdown",
   "metadata": {},
   "source": [
    "# Step 4 Create Term Document Matrix"
   ]
  },
  {
   "cell_type": "markdown",
   "metadata": {},
   "source": [
    "Create Term-Doc-matrix using Bag of word approach.and display its contents initially and finally."
   ]
  },
  {
   "cell_type": "code",
   "execution_count": 19,
   "metadata": {},
   "outputs": [
    {
     "name": "stdout",
     "output_type": "stream",
     "text": [
      "TERM DOC INITIALLY\n",
      "[[0 0 0 0 0 0 0]\n",
      " [0 0 0 0 0 0 0]\n",
      " [0 0 0 0 0 0 0]]\n"
     ]
    }
   ],
   "source": [
    "# Create Term doc matrix such that colmns will be unique words and all the files will be rows\n",
    "# Write code to count all the unique words appearances in all the files and store it in a dictionary for words\n",
    "\n",
    "term_doc = np.zeros((len(files_dict),len(unique_word_set)), dtype = 'int32')\n",
    "print(\"TERM DOC INITIALLY\")\n",
    "print(term_doc)"
   ]
  },
  {
   "cell_type": "code",
   "execution_count": 20,
   "metadata": {},
   "outputs": [
    {
     "name": "stdout",
     "output_type": "stream",
     "text": [
      "{'first': 0, 'file.': 1, 'another': 2, 'This': 3, 'temp3': 4, 'unique': 5, 'is': 6}\n",
      "{'Temp/temp1.txt': 0, 'Temp/temp2.txt': 1, 'Temp/temp3.txt': 2}\n"
     ]
    }
   ],
   "source": [
    "#Your code starts here \n",
    "counter = 0\n",
    "words_dict = {}\n",
    "for word in unique_word_set:\n",
    "    words_dict[word] = counter\n",
    "    counter += 1\n",
    "print(words_dict)\n",
    "\n",
    "counter = 0\n",
    "files_new_dict = {}\n",
    "for file_name in files_dict.values():\n",
    "    files_new_dict[file_name] = counter\n",
    "    counter += 1\n",
    "print(files_new_dict)\n",
    "#Your code ends here"
   ]
  },
  {
   "cell_type": "markdown",
   "metadata": {},
   "source": [
    "### Expected Output"
   ]
  },
  {
   "cell_type": "markdown",
   "metadata": {},
   "source": [
    "<img src=\"5.png\"/>"
   ]
  },
  {
   "cell_type": "markdown",
   "metadata": {},
   "source": [
    "# Step 5 Fill Term Document Matrix"
   ]
  },
  {
   "cell_type": "code",
   "execution_count": 21,
   "metadata": {},
   "outputs": [],
   "source": [
    "# Fill the term doc matrix by checking if the unique word exists in a file or not\n",
    "# If it exists then substitute a 1 in term_doc_matrix (eg : TERM_DOC_MATRIX[file][word] = 1 ) \n",
    "# Do the same for all the files present in the directory"
   ]
  },
  {
   "cell_type": "code",
   "execution_count": 23,
   "metadata": {},
   "outputs": [
    {
     "name": "stdout",
     "output_type": "stream",
     "text": [
      "TERM DOC After\n",
      "[[1 1 0 1 0 0 1]\n",
      " [0 1 1 1 0 1 1]\n",
      " [0 1 0 1 1 0 1]]\n"
     ]
    }
   ],
   "source": [
    "#Your code starts here \n",
    "\n",
    "for file_name in files_new_dict:\n",
    "    for word in words_dict:\n",
    "        with open(file_name,'r') as file:\n",
    "            allWords = file.read().split()\n",
    "            occurences = allWords.count(word)\n",
    "            if(occurences > 0):\n",
    "                term_doc[files_new_dict[file_name]][words_dict[word]] = 1\n",
    "print(\"TERM DOC After\")\n",
    "print(term_doc)\n",
    "#Your code ends here"
   ]
  },
  {
   "cell_type": "markdown",
   "metadata": {},
   "source": [
    "### Expected Output"
   ]
  },
  {
   "cell_type": "markdown",
   "metadata": {},
   "source": [
    "<img src=\"6.png\"/>"
   ]
  },
  {
   "cell_type": "markdown",
   "metadata": {},
   "source": [
    "# Step 6 Ask for a user Query"
   ]
  },
  {
   "cell_type": "code",
   "execution_count": 24,
   "metadata": {},
   "outputs": [],
   "source": [
    "# For user query make a column vector of length of all the unique words present in a set"
   ]
  },
  {
   "cell_type": "code",
   "execution_count": 25,
   "metadata": {},
   "outputs": [
    {
     "name": "stdout",
     "output_type": "stream",
     "text": [
      "[[0]\n",
      " [0]\n",
      " [0]\n",
      " [0]\n",
      " [0]\n",
      " [0]\n",
      " [0]]\n"
     ]
    }
   ],
   "source": [
    "#Your code starts here    \n",
    "\n",
    "col_vector = np.zeros((len(words_dict),1),dtype = 'int32')\n",
    "print(col_vector)\n",
    "\n",
    "#Your code ends here"
   ]
  },
  {
   "cell_type": "markdown",
   "metadata": {},
   "source": [
    "### Expected Output"
   ]
  },
  {
   "cell_type": "markdown",
   "metadata": {},
   "source": [
    "<img src=\"7.png\"/>"
   ]
  },
  {
   "cell_type": "code",
   "execution_count": 26,
   "metadata": {},
   "outputs": [
    {
     "name": "stdout",
     "output_type": "stream",
     "text": [
      "\n",
      "Write something for searching  is this is another file temp2\n"
     ]
    }
   ],
   "source": [
    "query = input(\"\\nWrite something for searching  \")\n",
    "# Check every word of query if it exists in the set of unique words or not\n",
    "# If exixts then increment the count of that word in word dictionary\n",
    "\n"
   ]
  },
  {
   "cell_type": "code",
   "execution_count": 27,
   "metadata": {},
   "outputs": [],
   "source": [
    "#Your code starts here    \n",
    "query_words = query.split()\n",
    "for qword in query_words:\n",
    "    if qword in words_dict:\n",
    "        col_vector[words_dict[qword]] += 1\n",
    "#Your code ends here"
   ]
  },
  {
   "cell_type": "markdown",
   "metadata": {},
   "source": [
    "### Expected Output"
   ]
  },
  {
   "cell_type": "markdown",
   "metadata": {},
   "source": [
    "<img src=\"8.png\"/>"
   ]
  },
  {
   "cell_type": "markdown",
   "metadata": {},
   "source": [
    "# Step 7 Display Resultant Vector"
   ]
  },
  {
   "cell_type": "markdown",
   "metadata": {},
   "source": [
    "Display \n",
    "1. Resultant vector.\n",
    "2. Max value in resultant vector.\n",
    "3. Index of max value in resultant vector.\n"
   ]
  },
  {
   "cell_type": "code",
   "execution_count": 28,
   "metadata": {},
   "outputs": [
    {
     "name": "stdout",
     "output_type": "stream",
     "text": [
      "Resultant Vector\n",
      "[[0]\n",
      " [0]\n",
      " [1]\n",
      " [0]\n",
      " [0]\n",
      " [0]\n",
      " [2]]\n",
      "Max in Resultant: \n",
      "2\n",
      "Index of max in resultant is: \n",
      "6\n"
     ]
    }
   ],
   "source": [
    "#Your code starts here  \n",
    "print(\"Resultant Vector\")\n",
    "print(col_vector)\n",
    "\n",
    "mx = max(col_vector)[0]\n",
    "print(\"Max in Resultant: \")\n",
    "print(mx)\n",
    "\n",
    "def getIndexOfMax(col_vector,mx):\n",
    "    counter = 0\n",
    "    for val in col_vector:\n",
    "        if(val == mx):\n",
    "            return counter\n",
    "        else:\n",
    "            counter += 1\n",
    "\n",
    "idx = getIndexOfMax(col_vector,mx)\n",
    "\n",
    "print(\"Index of max in resultant is: \")\n",
    "print(idx)\n",
    "\n",
    "            #Your code ends here"
   ]
  },
  {
   "cell_type": "markdown",
   "metadata": {},
   "source": [
    "### Expected Output"
   ]
  },
  {
   "cell_type": "markdown",
   "metadata": {},
   "source": [
    "<img src=\"9.png\"/>"
   ]
  },
  {
   "cell_type": "markdown",
   "metadata": {},
   "source": [
    "# Step 8 Display the contents of file\n"
   ]
  },
  {
   "cell_type": "code",
   "execution_count": 29,
   "metadata": {},
   "outputs": [],
   "source": [
    "#Write the code to identify the file_name having maximum value in the resultant vector and display its contents."
   ]
  },
  {
   "cell_type": "code",
   "execution_count": 30,
   "metadata": {},
   "outputs": [
    {
     "name": "stdout",
     "output_type": "stream",
     "text": [
      "Temp/temp1.txt:\n",
      "\n",
      "\"This is first file.\"\n"
     ]
    }
   ],
   "source": [
    "#Your code starts here\n",
    "def get_file_name(files_new_dict,term_doc,idx):\n",
    "    for key in files_new_dict:\n",
    "        if(term_doc[files_new_dict[key]][idx] == 1):\n",
    "            return key\n",
    "        \n",
    "fname = get_file_name(files_new_dict,term_doc,idx)\n",
    "print(fname+\":\\n\")\n",
    "with open(fname,'r') as file:\n",
    "    dataString = file.read()\n",
    "    print(\"\\\"\"+dataString+\"\\\"\")\n",
    "    \n",
    "\n",
    "#Your code ends here"
   ]
  },
  {
   "cell_type": "markdown",
   "metadata": {},
   "source": [
    "Congratulations Now you are able to build your own small IRS."
   ]
  },
  {
   "cell_type": "code",
   "execution_count": null,
   "metadata": {},
   "outputs": [],
   "source": []
  }
 ],
 "metadata": {
  "kernelspec": {
   "display_name": "Python 3",
   "language": "python",
   "name": "python3"
  },
  "language_info": {
   "codemirror_mode": {
    "name": "ipython",
    "version": 3
   },
   "file_extension": ".py",
   "mimetype": "text/x-python",
   "name": "python",
   "nbconvert_exporter": "python",
   "pygments_lexer": "ipython3",
   "version": "3.7.4"
  }
 },
 "nbformat": 4,
 "nbformat_minor": 4
}
