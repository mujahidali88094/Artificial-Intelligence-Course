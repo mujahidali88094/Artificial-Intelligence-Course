{
 "cells": [
  {
   "cell_type": "code",
   "execution_count": 12,
   "metadata": {},
   "outputs": [],
   "source": [
    "import numpy as np\n",
    "import warnings\n",
    "\n",
    "warnings.filterwarnings('ignore')"
   ]
  },
  {
   "cell_type": "code",
   "execution_count": 14,
   "metadata": {},
   "outputs": [],
   "source": [
    "train_images = np.loadtxt(\"trainX.txt\",dtype='int')\n",
    "train_results = np.loadtxt(\"trainY.txt\")\n",
    "test_images = np.loadtxt(\"testX.txt\",dtype='int')\n",
    "test_results = np.loadtxt(\"testY.txt\")"
   ]
  },
  {
   "cell_type": "markdown",
   "metadata": {},
   "source": [
    "# Training"
   ]
  },
  {
   "cell_type": "code",
   "execution_count": 15,
   "metadata": {},
   "outputs": [],
   "source": [
    "images_2 = train_images[:250]\n",
    "images_4 = train_images[250:]"
   ]
  },
  {
   "cell_type": "code",
   "execution_count": 16,
   "metadata": {},
   "outputs": [],
   "source": [
    "probs_1given2 = (np.sum(images_2,axis=0))/250\n",
    "probs_1given4 = (np.sum(images_4,axis=0))/250\n",
    "probs_0given2 = 1 - probs_1given2\n",
    "probs_0given4 = 1 - probs_1given4\n",
    "\n",
    "logged_probs_1given2 = np.log10(probs_1given2)\n",
    "logged_probs_1given4 = np.log10(probs_1given4)\n",
    "logged_probs_0given2 = np.log10(probs_0given2)\n",
    "logged_probs_0given4 = np.log10(probs_0given4)\n",
    "\n",
    "learned_prob_of_2 = np.count_nonzero(train_results == 2)/train_results.size\n",
    "learned_prob_of_4 = 1 - learned_prob_of_2"
   ]
  },
  {
   "cell_type": "markdown",
   "metadata": {},
   "source": [
    "# Utilites"
   ]
  },
  {
   "cell_type": "code",
   "execution_count": 17,
   "metadata": {},
   "outputs": [],
   "source": [
    "def getCharacterProb(image,logged_probs_of_1,logged_probs_of_0,prob_of_character):\n",
    "    mask_1 = image == 1\n",
    "    mask_0 = image == 0\n",
    "    image_prob = pow(10,(logged_probs_of_1[mask_1].sum() + logged_probs_of_0[mask_0].sum() + np.log10(prob_of_character)))\n",
    "    return image_prob   "
   ]
  },
  {
   "cell_type": "code",
   "execution_count": 18,
   "metadata": {},
   "outputs": [],
   "source": [
    "def getCharacter(image):\n",
    "    prob_of_2 = getCharacterProb(image,logged_probs_1given2,logged_probs_0given2,learned_prob_of_2)\n",
    "    prob_of_4 = getCharacterProb(image,logged_probs_1given4,logged_probs_0given4,learned_prob_of_4)\n",
    "    if prob_of_2 >= prob_of_4 :\n",
    "        return 2\n",
    "    else :\n",
    "        return 4"
   ]
  },
  {
   "cell_type": "code",
   "execution_count": 19,
   "metadata": {},
   "outputs": [],
   "source": [
    "def getAccuracy(images,results):    \n",
    "    predictions = np.zeros(images.shape[0])\n",
    "    for i in range(0,images.shape[0]):\n",
    "        predictions[i] = getCharacter(images[i])\n",
    "    matched = np.count_nonzero((predictions == results)==1)\n",
    "    accuracy = matched / results.size * 100\n",
    "    return accuracy"
   ]
  },
  {
   "cell_type": "markdown",
   "metadata": {},
   "source": [
    "# Testing on Traning Data"
   ]
  },
  {
   "cell_type": "code",
   "execution_count": 20,
   "metadata": {},
   "outputs": [
    {
     "name": "stdout",
     "output_type": "stream",
     "text": [
      "Accuracy:  99.4\n"
     ]
    }
   ],
   "source": [
    "print(\"Accuracy: \",getAccuracy(train_images,train_results))"
   ]
  },
  {
   "cell_type": "markdown",
   "metadata": {},
   "source": [
    "# Testing on Testing Data"
   ]
  },
  {
   "cell_type": "code",
   "execution_count": 21,
   "metadata": {},
   "outputs": [
    {
     "name": "stdout",
     "output_type": "stream",
     "text": [
      "Accuracy:  100.0\n"
     ]
    }
   ],
   "source": [
    "print(\"Accuracy: \",getAccuracy(test_images,test_results))"
   ]
  }
 ],
 "metadata": {
  "kernelspec": {
   "display_name": "Python 3",
   "language": "python",
   "name": "python3"
  },
  "language_info": {
   "codemirror_mode": {
    "name": "ipython",
    "version": 3
   },
   "file_extension": ".py",
   "mimetype": "text/x-python",
   "name": "python",
   "nbconvert_exporter": "python",
   "pygments_lexer": "ipython3",
   "version": "3.7.4"
  }
 },
 "nbformat": 4,
 "nbformat_minor": 2
}
