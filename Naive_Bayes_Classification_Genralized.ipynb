{
  "cells": [
    {
      "cell_type": "markdown",
      "metadata": {
        "id": "view-in-github",
        "colab_type": "text"
      },
      "source": [
        "<a href=\"https://colab.research.google.com/github/mujahidali88094/Artificial-Intelligence-Course/blob/main/Naive_Bayes_Classification_Genralized.ipynb\" target=\"_parent\"><img src=\"https://colab.research.google.com/assets/colab-badge.svg\" alt=\"Open In Colab\"/></a>"
      ]
    },
    {
      "cell_type": "markdown",
      "metadata": {
        "id": "YT9jxNbFVykB"
      },
      "source": [
        "# Naive Bayes Classifier"
      ]
    },
    {
      "cell_type": "markdown",
      "metadata": {
        "id": "9C_ZARDyVykE"
      },
      "source": [
        "## Urdu Alphabets Dataset"
      ]
    },
    {
      "cell_type": "code",
      "execution_count": null,
      "metadata": {
        "id": "kcu7y2MqVykF"
      },
      "outputs": [],
      "source": [
        "import numpy as np \n",
        "import os\n",
        "from PIL import Image\n",
        "import matplotlib.pyplot as plt\n",
        "import random"
      ]
    },
    {
      "cell_type": "code",
      "source": [
        "Index_Mapping = {\n",
        "  0 : \"ا\",\n",
        "  1 : \"آ\",\n",
        "  2 : \"ب\",\n",
        "  3 : \"پ\",\n",
        "  4 : \"ت\",\n",
        "  5 : \"ٹ\",\n",
        "  6 : \"ث\",\n",
        "  7 : \"ج\",\n",
        "  8 : \"چ\",\n",
        "  9 : \"ح\",\n",
        "  10 : \"خ\",\n",
        "  11 : \"د\",\n",
        "  12 : \"ڈ\",\n",
        "  13 : \"ذ\",\n",
        "  14 : \"ر\",\n",
        "  15 : \"ڑ\",\n",
        "  16 : \"ز\",\n",
        "  17 : \"ژ\",\n",
        "  18 : \"س\",\n",
        "  19 : \"ش\",\n",
        "  20 : \"ص\",\n",
        "  21 : \"ض\",\n",
        "  22 : \"ط\",\n",
        "  23 : \"ظ\",\n",
        "  24 : \"ع\",\n",
        "  25 : \"غ\",\n",
        "  26 : \"ف\",\n",
        "  27 : \"ق\",\n",
        "  28 : \"ک\",\n",
        "  29 : \"گ\",\n",
        "  30 : \"ل\",\n",
        "  31 : \"م\",\n",
        "  32 : \"ن\",\n",
        "  33 : \"ں\",\n",
        "  34 : \"و\",\n",
        "  35 : \"ھ\",\n",
        "  36 : \"ہ\",\n",
        "  37 : \"ء\",\n",
        "  38 : \"ی\",\n",
        "  39 : \"ے\"\n",
        "}"
      ],
      "metadata": {
        "id": "SfxLRdQFoh-r"
      },
      "execution_count": null,
      "outputs": []
    },
    {
      "cell_type": "markdown",
      "metadata": {
        "id": "XwOiQ6rVVykF"
      },
      "source": [
        "# Utilities"
      ]
    },
    {
      "cell_type": "code",
      "execution_count": null,
      "metadata": {
        "id": "LI1jy55KVykG"
      },
      "outputs": [],
      "source": [
        "# Python3 program to find first and\n",
        "# last occurrences of a number in a\n",
        "# given sorted array using binary search\n",
        "\n",
        "def first(arr, x, n):\n",
        "    low = 0\n",
        "    high = n - 1\n",
        "    res = -1 \n",
        "    while (low <= high):\n",
        "        # Normal Binary Search Logic\n",
        "        mid = (low + high) // 2\n",
        "        \n",
        "        if arr[mid] > x:\n",
        "            high = mid - 1\n",
        "        elif arr[mid] < x:\n",
        "            low = mid + 1\n",
        "        # If arr[mid] is same as x, we\n",
        "        # update res and move to the left\n",
        "        # half.\n",
        "        else:\n",
        "            res = mid\n",
        "            high = mid - 1\n",
        "    return res\n",
        "\n",
        "def last(arr, x, n):\n",
        "    low = 0\n",
        "    high = n - 1\n",
        "    res = -1\n",
        "    while(low <= high):\n",
        "        # Normal Binary Search Logic\n",
        "        mid = (low + high) // 2\n",
        "\n",
        "        if arr[mid] > x:\n",
        "            high = mid - 1\n",
        "        elif arr[mid] < x:\n",
        "            low = mid + 1\n",
        "        # If arr[mid] is same as x, we\n",
        "        # update res and move to the Right\n",
        "        # half.\n",
        "        else:\n",
        "            res = mid\n",
        "            low = mid + 1\n",
        "    return res\n",
        "\n",
        "def safe_log10(x, eps=1e-10):\n",
        "    result = np.where(x > eps, x, -10)\n",
        "    np.log10(result, out=result, where=result > 0)\n",
        "    return result\n",
        "\n",
        "def showImage(image):\n",
        "    plt.imshow(image, interpolation='nearest')\n",
        "    plt.show()\n",
        "    return\n",
        "\n",
        "def showRandomPredictions(predictions,images):\n",
        "    count = 10\n",
        "    for c in range(count):\n",
        "        i = random.randrange(predictions.size)\n",
        "        print(\"Prediction: \",Index_Mapping.get(predictions[i]))\n",
        "        print(\"Actual Result\")\n",
        "        showImage(images[i].reshape(28,28))\n",
        "        print(\"============================================================\")\n",
        "    return\n",
        "\n",
        "def getSmoothedProb(count,total,feature_count):\n",
        "    return ((count+1)/(total+feature_count))\n",
        "\n",
        "def getCountsColumnwise(arr2d,val):\n",
        "    counts = []\n",
        "    for col in range(0,arr2d.shape[1]):\n",
        "        counts.append(np.count_nonzero(arr2d[:,col]==val))\n",
        "    return np.array(counts)\n"
      ]
    },
    {
      "cell_type": "markdown",
      "metadata": {
        "id": "Cf5zTkrpVykH"
      },
      "source": [
        "### Prediction Function"
      ]
    },
    {
      "cell_type": "code",
      "execution_count": null,
      "metadata": {
        "id": "GGz-remZVykH"
      },
      "outputs": [],
      "source": [
        "def predict(image):\n",
        "    \n",
        "    gotProbs = [None for i in range(RESULTS_COUNT)]\n",
        "    for i in range(RESULTS_COUNT):\n",
        "        temp = 0\n",
        "        for j in range(FEATURES_COUNT):\n",
        "            mask = image == j\n",
        "            temp += probs[i][j][mask].sum()\n",
        "        temp += results_probs[i]\n",
        "        gotProbs[i] = pow(10,temp)\n",
        "        \n",
        "    return gotProbs.index(max(gotProbs))"
      ]
    },
    {
      "cell_type": "markdown",
      "metadata": {
        "id": "n50dm_vOVykH"
      },
      "source": [
        "### Accuracy Function"
      ]
    },
    {
      "cell_type": "code",
      "execution_count": null,
      "metadata": {
        "id": "CZNx6BZYVykI"
      },
      "outputs": [],
      "source": [
        "# def getAccuracy(images,results):\n",
        "#     predictions = np.zeros(images.shape[0])\n",
        "#     for i in range(0,images.shape[0]):\n",
        "#         predictions[i] = predict(images[i])\n",
        "#     matched = np.count_nonzero((predictions == results)==1)\n",
        "#     accuracy = matched / results.size * 100\n",
        "#     return accuracy\n",
        "\n",
        "def getPredictions(images):\n",
        "    predictions = np.zeros(images.shape[0])\n",
        "    for i in range(0,images.shape[0]):\n",
        "        predictions[i] = predict(images[i])\n",
        "    return predictions\n",
        "\n",
        "def getAccuracy(predictions,results):\n",
        "    matched = np.count_nonzero((predictions == results)==1)\n",
        "    accuracy = matched / results.size * 100\n",
        "    return accuracy\n",
        "\n",
        "\n"
      ]
    },
    {
      "cell_type": "markdown",
      "metadata": {
        "id": "mKMd8e1UVykJ"
      },
      "source": [
        "# Load Data"
      ]
    },
    {
      "cell_type": "code",
      "source": [
        "from google.colab import drive\n",
        "drive.mount(\"/content/gdrive\")"
      ],
      "metadata": {
        "colab": {
          "base_uri": "https://localhost:8080/"
        },
        "id": "OD1bdAOBW78n",
        "outputId": "7ab9f53c-ee7a-4204-b945-3eccb5ff5db3"
      },
      "execution_count": null,
      "outputs": [
        {
          "output_type": "stream",
          "name": "stdout",
          "text": [
            "Mounted at /content/gdrive\n"
          ]
        }
      ]
    },
    {
      "cell_type": "code",
      "source": [
        "urdu_dataset = np.load('/content/gdrive/MyDrive/kaggle/uhat_dataset.npz')"
      ],
      "metadata": {
        "id": "q1SIQoEdW879"
      },
      "execution_count": null,
      "outputs": []
    },
    {
      "cell_type": "code",
      "execution_count": null,
      "metadata": {
        "id": "47hNvnSIVykK"
      },
      "outputs": [],
      "source": [
        "\n",
        "train_images = urdu_dataset['x_chars_train']\n",
        "train_results = urdu_dataset['y_chars_train']\n",
        "test_images = urdu_dataset['x_chars_test']\n",
        "test_results = urdu_dataset['y_chars_test']\n"
      ]
    },
    {
      "cell_type": "markdown",
      "metadata": {
        "id": "icgiNQ0_VykK"
      },
      "source": [
        "# Removing Unnecssary Details"
      ]
    },
    {
      "cell_type": "code",
      "execution_count": null,
      "metadata": {
        "colab": {
          "base_uri": "https://localhost:8080/",
          "height": 265
        },
        "id": "wy6SMIiaVykL",
        "outputId": "b910e636-f9d5-441a-e0ef-bbc03d96f628"
      },
      "outputs": [
        {
          "output_type": "display_data",
          "data": {
            "text/plain": [
              "<Figure size 432x288 with 1 Axes>"
            ],
            "image/png": "[encoded data removed]"
          },
          "metadata": {
            "needs_background": "light"
          }
        }
      ],
      "source": [
        "# making 2 feature only\n",
        "divider = 127\n",
        "train_images[(train_images<=divider)]=0\n",
        "train_images[(train_images>divider)]=1\n",
        "test_images[(test_images<=divider)]=0\n",
        "test_images[(test_images>divider)]=1\n",
        "\n",
        "showImage(test_images[0])"
      ]
    },
    {
      "cell_type": "markdown",
      "metadata": {
        "id": "RkiyGr9MVykL"
      },
      "source": [
        "# Transforming images to 1D"
      ]
    },
    {
      "cell_type": "code",
      "execution_count": null,
      "metadata": {
        "id": "Q0YdYHo1VykM"
      },
      "outputs": [],
      "source": [
        "temp = np.ones((train_images.shape[0], train_images.shape[1] ** 2))\n",
        "for i in range(train_images.shape[0]):\n",
        "     temp[i] = train_images[i].flatten()\n",
        "train_images = temp\n",
        "\n",
        "temp = np.ones((test_images.shape[0], test_images.shape[1] ** 2))\n",
        "for i in range(test_images.shape[0]):\n",
        "     temp[i] = test_images[i].flatten()\n",
        "test_images = temp"
      ]
    },
    {
      "cell_type": "markdown",
      "metadata": {
        "id": "KqEyNlFZVykM"
      },
      "source": [
        "# Globals"
      ]
    },
    {
      "cell_type": "code",
      "execution_count": null,
      "metadata": {
        "id": "VHGWsO20VykM"
      },
      "outputs": [],
      "source": [
        "FEATURES_COUNT = 2                          # [0,1]\n",
        "RESULTS_COUNT = len(set(train_results))"
      ]
    },
    {
      "cell_type": "markdown",
      "metadata": {
        "id": "DNize26fVykM"
      },
      "source": [
        "# Training"
      ]
    },
    {
      "cell_type": "markdown",
      "metadata": {
        "id": "nElA6SzaVykM"
      },
      "source": [
        "### Probabilites of feature given result ( P(x[i] | y[j]) )"
      ]
    },
    {
      "cell_type": "code",
      "execution_count": null,
      "metadata": {
        "id": "gHx8EeeUVykM"
      },
      "outputs": [],
      "source": [
        "# probs[i][j] means probability of x[i] given y[j]\n",
        "\n",
        "probs = [[None for j in range(FEATURES_COUNT)] for i in range(RESULTS_COUNT)]\n",
        "\n",
        "for i in range(0,RESULTS_COUNT):\n",
        "    \n",
        "    start = first( train_results, i, len(train_images) )\n",
        "    end   = last ( train_results, i, len(train_images) )\n",
        "    images = train_images[start:end+1]\n",
        "    \n",
        "    for j in range(0,FEATURES_COUNT):\n",
        "        \n",
        "        # without smoothing\n",
        "        #probs[i][j] = (getCountsColumnwise(images,j) / images.shape[0])\n",
        "        \n",
        "        # with smoothing\n",
        "        probs[i][j] = getSmoothedProb(getCountsColumnwise(images,j),images.shape[0],FEATURES_COUNT)\n",
        "        \n",
        "        probs[i][j] = safe_log10(probs[i][j])\n"
      ]
    },
    {
      "cell_type": "markdown",
      "metadata": {
        "id": "HsNuykMcVykN"
      },
      "source": [
        "### Overall probabilities of results ( P(y[i]) )"
      ]
    },
    {
      "cell_type": "code",
      "execution_count": null,
      "metadata": {
        "id": "tZW0_lHsVykN"
      },
      "outputs": [],
      "source": [
        "results_probs = [None for i in range(RESULTS_COUNT)]\n",
        "for i in range(RESULTS_COUNT):\n",
        "    results_probs[i] = safe_log10(np.count_nonzero(train_results == i)/train_results.size)"
      ]
    },
    {
      "cell_type": "markdown",
      "metadata": {
        "id": "mZSBa3htVykN"
      },
      "source": [
        "# Evaluation on Training Data"
      ]
    },
    {
      "cell_type": "code",
      "execution_count": null,
      "metadata": {
        "colab": {
          "base_uri": "https://localhost:8080/"
        },
        "id": "NMUrGHcKVykN",
        "outputId": "e624e3fb-ed5d-4561-f903-6945cb5bdf8c"
      },
      "outputs": [
        {
          "output_type": "stream",
          "name": "stdout",
          "text": [
            "Accuracy:  56.590652358090935\n"
          ]
        }
      ],
      "source": [
        "train_predictions = getPredictions(train_images)\n",
        "\n",
        "print(\"Accuracy: \",getAccuracy(train_predictions,train_results))"
      ]
    },
    {
      "cell_type": "code",
      "execution_count": null,
      "metadata": {
        "colab": {
          "base_uri": "https://localhost:8080/",
          "height": 1000
        },
        "id": "H5KhWY2SVykO",
        "outputId": "ccf9f994-0150-4630-d32c-5c30a4cc2808"
      },
      "outputs": [
        {
          "output_type": "stream",
          "name": "stdout",
          "text": [
            "Prediction:  ے\n",
            "Actual Result\n"
          ]
        },
        {
          "output_type": "display_data",
          "data": {
            "text/plain": [
              "<Figure size 432x288 with 1 Axes>"
            ],
            "image/png": "[encoded data removed]"
          },
          "metadata": {
            "needs_background": "light"
          }
        },
        {
          "output_type": "stream",
          "name": "stdout",
          "text": [
            "============================================================\n",
            "Prediction:  ط\n",
            "Actual Result\n"
          ]
        },
        {
          "output_type": "display_data",
          "data": {
            "text/plain": [
              "<Figure size 432x288 with 1 Axes>"
            ],
            "image/png": "[encoded data removed]"
          },
          "metadata": {
            "needs_background": "light"
          }
        },
        {
          "output_type": "stream",
          "name": "stdout",
          "text": [
            "============================================================\n",
            "Prediction:  ڑ\n",
            "Actual Result\n"
          ]
        },
        {
          "output_type": "display_data",
          "data": {
            "text/plain": [
              "<Figure size 432x288 with 1 Axes>"
            ],
            "image/png": "[encoded data removed]"
          },
          "metadata": {
            "needs_background": "light"
          }
        },
        {
          "output_type": "stream",
          "name": "stdout",
          "text": [
            "============================================================\n",
            "Prediction:  ح\n",
            "Actual Result\n"
          ]
        },
        {
          "output_type": "display_data",
          "data": {
            "text/plain": [
              "<Figure size 432x288 with 1 Axes>"
            ],
            "image/png": "[encoded data removed]"
          },
          "metadata": {
            "needs_background": "light"
          }
        },
        {
          "output_type": "stream",
          "name": "stdout",
          "text": [
            "============================================================\n",
            "Prediction:  ص\n",
            "Actual Result\n"
          ]
        },
        {
          "output_type": "display_data",
          "data": {
            "text/plain": [
              "<Figure size 432x288 with 1 Axes>"
            ],
            "image/png": "[encoded data removed]"
          },
          "metadata": {
            "needs_background": "light"
          }
        },
        {
          "output_type": "stream",
          "name": "stdout",
          "text": [
            "============================================================\n",
            "Prediction:  خ\n",
            "Actual Result\n"
          ]
        },
        {
          "output_type": "display_data",
          "data": {
            "text/plain": [
              "<Figure size 432x288 with 1 Axes>"
            ],
            "image/png": "[encoded data removed]"
          },
          "metadata": {
            "needs_background": "light"
          }
        },
        {
          "output_type": "stream",
          "name": "stdout",
          "text": [
            "============================================================\n",
            "Prediction:  ظ\n",
            "Actual Result\n"
          ]
        },
        {
          "output_type": "display_data",
          "data": {
            "text/plain": [
              "<Figure size 432x288 with 1 Axes>"
            ],
            "image/png": "[encoded data removed]"
          },
          "metadata": {
            "needs_background": "light"
          }
        },
        {
          "output_type": "stream",
          "name": "stdout",
          "text": [
            "============================================================\n",
            "Prediction:  ء\n",
            "Actual Result\n"
          ]
        },
        {
          "output_type": "display_data",
          "data": {
            "text/plain": [
              "<Figure size 432x288 with 1 Axes>"
            ],
            "image/png": "[encoded data removed]"
          },
          "metadata": {
            "needs_background": "light"
          }
        },
        {
          "output_type": "stream",
          "name": "stdout",
          "text": [
            "============================================================\n",
            "Prediction:  گ\n",
            "Actual Result\n"
          ]
        },
        {
          "output_type": "display_data",
          "data": {
            "text/plain": [
              "<Figure size 432x288 with 1 Axes>"
            ],
            "image/png": "[encoded data removed]"
          },
          "metadata": {
            "needs_background": "light"
          }
        },
        {
          "output_type": "stream",
          "name": "stdout",
          "text": [
            "============================================================\n",
            "Prediction:  ز\n",
            "Actual Result\n"
          ]
        },
        {
          "output_type": "display_data",
          "data": {
            "text/plain": [
              "<Figure size 432x288 with 1 Axes>"
            ],
            "image/png": "[encoded data removed]"
          },
          "metadata": {
            "needs_background": "light"
          }
        },
        {
          "output_type": "stream",
          "name": "stdout",
          "text": [
            "============================================================\n"
          ]
        }
      ],
      "source": [
        "showRandomPredictions(train_predictions,train_images)"
      ]
    },
    {
      "cell_type": "markdown",
      "metadata": {
        "id": "YbVVqngXVykO"
      },
      "source": [
        "# Evaluation on Testing Data"
      ]
    },
    {
      "cell_type": "code",
      "execution_count": null,
      "metadata": {
        "colab": {
          "base_uri": "https://localhost:8080/"
        },
        "id": "p75j-MF1VykO",
        "outputId": "59920f1b-5c7c-4f93-fb98-d857a54dd230"
      },
      "outputs": [
        {
          "output_type": "stream",
          "name": "stdout",
          "text": [
            "Accuracy:  55.40983606557377\n"
          ]
        }
      ],
      "source": [
        "test_predictions = getPredictions(test_images)\n",
        "\n",
        "print(\"Accuracy: \",getAccuracy(test_predictions,test_results))"
      ]
    },
    {
      "cell_type": "code",
      "execution_count": null,
      "metadata": {
        "colab": {
          "base_uri": "https://localhost:8080/",
          "height": 1000
        },
        "id": "5pUHPBvvVykO",
        "outputId": "a5e80952-c445-4d6d-9077-a22ee5aaeb12"
      },
      "outputs": [
        {
          "output_type": "stream",
          "name": "stdout",
          "text": [
            "Prediction:  ت\n",
            "Actual Result\n"
          ]
        },
        {
          "output_type": "display_data",
          "data": {
            "text/plain": [
              "<Figure size 432x288 with 1 Axes>"
            ],
            "image/png": "[encoded data removed]"
          },
          "metadata": {
            "needs_background": "light"
          }
        },
        {
          "output_type": "stream",
          "name": "stdout",
          "text": [
            "============================================================\n",
            "Prediction:  ب\n",
            "Actual Result\n"
          ]
        },
        {
          "output_type": "display_data",
          "data": {
            "text/plain": [
              "<Figure size 432x288 with 1 Axes>"
            ],
            "image/png": "[encoded data removed]"
          },
          "metadata": {
            "needs_background": "light"
          }
        },
        {
          "output_type": "stream",
          "name": "stdout",
          "text": [
            "============================================================\n",
            "Prediction:  غ\n",
            "Actual Result\n"
          ]
        },
        {
          "output_type": "display_data",
          "data": {
            "text/plain": [
              "<Figure size 432x288 with 1 Axes>"
            ],
            "image/png": "[encoded data removed]"
          },
          "metadata": {
            "needs_background": "light"
          }
        },
        {
          "output_type": "stream",
          "name": "stdout",
          "text": [
            "============================================================\n",
            "Prediction:  ڑ\n",
            "Actual Result\n"
          ]
        },
        {
          "output_type": "display_data",
          "data": {
            "text/plain": [
              "<Figure size 432x288 with 1 Axes>"
            ],
            "image/png": "[encoded data removed]"
          },
          "metadata": {
            "needs_background": "light"
          }
        },
        {
          "output_type": "stream",
          "name": "stdout",
          "text": [
            "============================================================\n",
            "Prediction:  ء\n",
            "Actual Result\n"
          ]
        },
        {
          "output_type": "display_data",
          "data": {
            "text/plain": [
              "<Figure size 432x288 with 1 Axes>"
            ],
            "image/png": "[encoded data removed]"
          },
          "metadata": {
            "needs_background": "light"
          }
        },
        {
          "output_type": "stream",
          "name": "stdout",
          "text": [
            "============================================================\n",
            "Prediction:  ض\n",
            "Actual Result\n"
          ]
        },
        {
          "output_type": "display_data",
          "data": {
            "text/plain": [
              "<Figure size 432x288 with 1 Axes>"
            ],
            "image/png": "[encoded data removed]"
          },
          "metadata": {
            "needs_background": "light"
          }
        },
        {
          "output_type": "stream",
          "name": "stdout",
          "text": [
            "============================================================\n",
            "Prediction:  ظ\n",
            "Actual Result\n"
          ]
        },
        {
          "output_type": "display_data",
          "data": {
            "text/plain": [
              "<Figure size 432x288 with 1 Axes>"
            ],
            "image/png": "[encoded data removed]"
          },
          "metadata": {
            "needs_background": "light"
          }
        },
        {
          "output_type": "stream",
          "name": "stdout",
          "text": [
            "============================================================\n",
            "Prediction:  ث\n",
            "Actual Result\n"
          ]
        },
        {
          "output_type": "display_data",
          "data": {
            "text/plain": [
              "<Figure size 432x288 with 1 Axes>"
            ],
            "image/png": "[encoded data removed]"
          },
          "metadata": {
            "needs_background": "light"
          }
        },
        {
          "output_type": "stream",
          "name": "stdout",
          "text": [
            "============================================================\n",
            "Prediction:  غ\n",
            "Actual Result\n"
          ]
        },
        {
          "output_type": "display_data",
          "data": {
            "text/plain": [
              "<Figure size 432x288 with 1 Axes>"
            ],
            "image/png": "[encoded data removed]"
          },
          "metadata": {
            "needs_background": "light"
          }
        },
        {
          "output_type": "stream",
          "name": "stdout",
          "text": [
            "============================================================\n",
            "Prediction:  ط\n",
            "Actual Result\n"
          ]
        },
        {
          "output_type": "display_data",
          "data": {
            "text/plain": [
              "<Figure size 432x288 with 1 Axes>"
            ],
            "image/png": "[encoded data removed]"
          },
          "metadata": {
            "needs_background": "light"
          }
        },
        {
          "output_type": "stream",
          "name": "stdout",
          "text": [
            "============================================================\n"
          ]
        }
      ],
      "source": [
        "showRandomPredictions(test_predictions,test_images)"
      ]
    },
    {
      "cell_type": "code",
      "source": [],
      "metadata": {
        "id": "s_cDNDlWXJ4E"
      },
      "execution_count": null,
      "outputs": []
    }
  ],
  "metadata": {
    "kernelspec": {
      "display_name": "Python 3",
      "language": "python",
      "name": "python3"
    },
    "language_info": {
      "codemirror_mode": {
        "name": "ipython",
        "version": 3
      },
      "file_extension": ".py",
      "mimetype": "text/x-python",
      "name": "python",
      "nbconvert_exporter": "python",
      "pygments_lexer": "ipython3",
      "version": "3.7.4"
    },
    "colab": {
      "provenance": [],
      "include_colab_link": true
    }
  },
  "nbformat": 4,
  "nbformat_minor": 0
}